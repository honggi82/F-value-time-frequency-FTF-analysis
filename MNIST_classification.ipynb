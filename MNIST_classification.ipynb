{
  "nbformat": 4,
  "nbformat_minor": 0,
  "metadata": {
    "colab": {
      "name": "MNIST classification.ipynb",
      "provenance": [],
      "authorship_tag": "ABX9TyMBkPAGYZh05X2wTyRUSUZC",
      "include_colab_link": true
    },
    "kernelspec": {
      "name": "python3",
      "display_name": "Python 3"
    },
    "language_info": {
      "name": "python"
    }
  },
  "cells": [
    {
      "cell_type": "markdown",
      "metadata": {
        "id": "view-in-github",
        "colab_type": "text"
      },
      "source": [
        "<a href=\"https://colab.research.google.com/github/honggi82/FTF-analysis/blob/main/MNIST_classification.ipynb\" target=\"_parent\"><img src=\"https://colab.research.google.com/assets/colab-badge.svg\" alt=\"Open In Colab\"/></a>"
      ]
    },
    {
      "cell_type": "code",
      "metadata": {
        "id": "F39UJKMQGQJ9",
        "colab": {
          "base_uri": "https://localhost:8080/"
        },
        "outputId": "21ffbe41-b50c-4a88-fb1e-ced83ec75bbc"
      },
      "source": [
        "import tensorflow as tf\n",
        "import matplotlib.pyplot as plt\n",
        "\n",
        "# MNIST 데이터셋 불러오기\n",
        "(train_X, train_Y), (test_X, test_Y) = tf.keras.datasets.mnist.load_data()\n",
        "print(len(train_X), len(test_X))\n",
        "\n",
        "# 데이터 확인\n",
        "plt.imshow(train_X[0], cmap='gray')\n",
        "plt.colorbar()\n",
        "print(train_Y[0])\n",
        "\n",
        "# 데이터 정규화\n",
        "train_X = train_X / 255.0\n",
        "test_X = test_X / 255.0\n",
        "# MNIST 분류 모델\n",
        "model = tf.keras.Sequential([\n",
        "    tf.keras.layers.Flatten(input_shape=(28,28)),\n",
        "    tf.keras.layers.Dense(units=128, activation='relu'),\n",
        "    tf.keras.layers.Dense(units=10, activation='softmax')])\n",
        "model.compile(optimizer=tf.keras.optimizers.Adam(), \n",
        "              loss='sparse_categorical_crossentropy', \n",
        "              metrics=['accuracy'])\n",
        "\n",
        "model.summary()\n",
        "\n",
        "# MNIST 분류 모델 학습\n",
        "history = model.fit(train_X, train_Y, epochs=25)\n",
        "\n",
        "# MNIST 분류 모델 학습 결과 시각화\n",
        "plt.figure(figsize=(12, 4))\n",
        "plt.subplot(1, 2, 1)\n",
        "plt.plot(history.history['loss'], 'b-', label='loss')\n",
        "plt.xlabel('Epoch')\n",
        "plt.legend()\n",
        "\n",
        "plt.subplot(1, 2, 2)\n",
        "plt.plot(history.history['accuracy'], 'g-', label='accuracy')\n",
        "plt.xlabel('Epoch')\n",
        "plt.ylim(0.7, 1)\n",
        "plt.legend()\n",
        "\n",
        "# MNIST 분류 모델 평가\n",
        "model.evaluate(test_X, test_Y)"
      ],
      "execution_count": null,
      "outputs": [
        {
          "output_type": "stream",
          "name": "stdout",
          "text": [
            "60000 10000\n",
            "5\n",
            "Model: \"sequential\"\n",
            "_________________________________________________________________\n",
            "Layer (type)                 Output Shape              Param #   \n",
            "=================================================================\n",
            "flatten (Flatten)            (None, 784)               0         \n",
            "_________________________________________________________________\n",
            "dense (Dense)                (None, 128)               100480    \n",
            "_________________________________________________________________\n",
            "dense_1 (Dense)              (None, 10)                1290      \n",
            "=================================================================\n",
            "Total params: 101,770\n",
            "Trainable params: 101,770\n",
            "Non-trainable params: 0\n",
            "_________________________________________________________________\n",
            "Epoch 1/25\n",
            "1875/1875 [==============================] - 5s 2ms/step - loss: 0.2565 - accuracy: 0.9262\n",
            "Epoch 2/25\n",
            "1875/1875 [==============================] - 4s 2ms/step - loss: 0.1149 - accuracy: 0.9664\n",
            "Epoch 3/25\n",
            "1875/1875 [==============================] - 4s 2ms/step - loss: 0.0780 - accuracy: 0.9765\n",
            "Epoch 4/25\n",
            "1875/1875 [==============================] - 4s 2ms/step - loss: 0.0583 - accuracy: 0.9822\n",
            "Epoch 5/25\n",
            "1875/1875 [==============================] - 4s 2ms/step - loss: 0.0457 - accuracy: 0.9863\n",
            "Epoch 6/25\n",
            "1875/1875 [==============================] - 4s 2ms/step - loss: 0.0367 - accuracy: 0.9882\n",
            "Epoch 7/25\n",
            "1875/1875 [==============================] - 4s 2ms/step - loss: 0.0281 - accuracy: 0.9914\n",
            "Epoch 8/25\n",
            "1875/1875 [==============================] - 4s 2ms/step - loss: 0.0234 - accuracy: 0.9923\n",
            "Epoch 9/25\n",
            "1875/1875 [==============================] - 4s 2ms/step - loss: 0.0190 - accuracy: 0.9937\n",
            "Epoch 10/25\n",
            "1875/1875 [==============================] - 4s 2ms/step - loss: 0.0146 - accuracy: 0.9955\n",
            "Epoch 11/25\n",
            "1875/1875 [==============================] - 4s 2ms/step - loss: 0.0124 - accuracy: 0.9960\n",
            "Epoch 12/25\n",
            "1875/1875 [==============================] - 4s 2ms/step - loss: 0.0125 - accuracy: 0.9960\n",
            "Epoch 13/25\n",
            "1875/1875 [==============================] - 4s 2ms/step - loss: 0.0092 - accuracy: 0.9972\n",
            "Epoch 14/25\n",
            "1875/1875 [==============================] - 4s 2ms/step - loss: 0.0095 - accuracy: 0.9968\n",
            "Epoch 15/25\n",
            "1875/1875 [==============================] - 4s 2ms/step - loss: 0.0087 - accuracy: 0.9973\n",
            "Epoch 16/25\n",
            "1875/1875 [==============================] - 4s 2ms/step - loss: 0.0073 - accuracy: 0.9979\n",
            "Epoch 17/25\n",
            "1875/1875 [==============================] - 4s 2ms/step - loss: 0.0066 - accuracy: 0.9980\n",
            "Epoch 18/25\n",
            "1875/1875 [==============================] - 4s 2ms/step - loss: 0.0060 - accuracy: 0.9980\n",
            "Epoch 19/25\n",
            "1875/1875 [==============================] - 4s 2ms/step - loss: 0.0067 - accuracy: 0.9978\n",
            "Epoch 20/25\n",
            "1144/1875 [=================>............] - ETA: 1s - loss: 0.0039 - accuracy: 0.9989"
          ]
        }
      ]
    }
  ]
}